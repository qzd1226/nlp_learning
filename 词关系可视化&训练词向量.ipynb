{
 "cells": [
  {
   "cell_type": "code",
   "execution_count": 1,
   "metadata": {},
   "outputs": [
    {
     "name": "stderr",
     "output_type": "stream",
     "text": [
      "H:\\ANACONDA\\lib\\site-packages\\pugnlp\\constants.py:136: FutureWarning: The pandas.datetime class is deprecated and will be removed from pandas in a future version. Import from datetime module instead.\n",
      "  [datetime.datetime, pd.datetime, pd.Timestamp])\n",
      "H:\\ANACONDA\\lib\\site-packages\\pugnlp\\constants.py:158: FutureWarning: The pandas.datetime class is deprecated and will be removed from pandas in a future version. Import from datetime module instead.\n",
      "  MIN_TIMESTAMP = pd.Timestamp(pd.datetime(1677, 9, 22, 0, 12, 44), tz='utc')\n",
      "H:\\ANACONDA\\lib\\site-packages\\pugnlp\\tutil.py:100: FutureWarning: The pandas.np module is deprecated and will be removed from pandas in a future version. Import numpy directly instead\n",
      "  np = pd.np\n",
      "H:\\ANACONDA\\lib\\site-packages\\pugnlp\\util.py:80: FutureWarning: The pandas.np module is deprecated and will be removed from pandas in a future version. Import numpy directly instead\n",
      "  np = pd.np\n",
      "INFO:nlpia.constants:Starting logger in nlpia.constants...\n",
      "H:\\ANACONDA\\lib\\site-packages\\nlpia\\futil.py:30: FutureWarning: The pandas.np module is deprecated and will be removed from pandas in a future version. Import numpy directly instead\n",
      "  np = pd.np\n",
      "H:\\ANACONDA\\lib\\site-packages\\nlpia\\loaders.py:78: FutureWarning: The pandas.np module is deprecated and will be removed from pandas in a future version. Import numpy directly instead\n",
      "  np = pd.np\n",
      "INFO:nlpia.loaders:No BIGDATA index found in H:\\ANACONDA\\lib\\site-packages\\nlpia\\data\\bigdata_info.csv so copy H:\\ANACONDA\\lib\\site-packages\\nlpia\\data\\bigdata_info.latest.csv to H:\\ANACONDA\\lib\\site-packages\\nlpia\\data\\bigdata_info.csv if you want to \"freeze\" it.\n",
      "INFO:nlpia.futil:Reading CSV with `read_csv(*('H:\\\\ANACONDA\\\\lib\\\\site-packages\\\\nlpia\\\\data\\\\mavis-batey-greetings.csv',), **{'low_memory': False})`...\n",
      "INFO:nlpia.futil:Reading CSV with `read_csv(*('H:\\\\ANACONDA\\\\lib\\\\site-packages\\\\nlpia\\\\data\\\\sms-spam.csv',), **{'low_memory': False})`...\n"
     ]
    }
   ],
   "source": [
    "import os\n",
    "import nlpia\n",
    "from nlpia.loaders import get_data\n",
    "from gensim.models import Word2Vec\n",
    "from gensim.models import KeyedVectors\n",
    "#from gensim.models.word2vec import KeyedVectors"
   ]
  },
  {
   "cell_type": "code",
   "execution_count": 2,
   "metadata": {},
   "outputs": [
    {
     "name": "stderr",
     "output_type": "stream",
     "text": [
      "INFO:nlpia.loaders:Downloading word2vec\n",
      "DEBUG:nlpia.futil:regex pattern = ^[.]?([^.]*)\\.([^.]{1,10})*\\.300d\\.zip$, string=googlenews-vectors-negative300.bin.gz\n",
      "DEBUG:nlpia.futil:regex pattern = ^[.]?([^.]*)\\.([^.]{1,10})*\\.27b\\.zip$, string=googlenews-vectors-negative300.bin.gz\n",
      "DEBUG:nlpia.futil:regex pattern = ^[.]?([^.]*)\\.([^.]{1,10})*\\.42b\\.zip$, string=googlenews-vectors-negative300.bin.gz\n",
      "DEBUG:nlpia.futil:regex pattern = ^[.]?([^.]*)\\.([^.]{1,10})*\\.6b\\.zip$, string=googlenews-vectors-negative300.bin.gz\n",
      "DEBUG:nlpia.futil:regex pattern = ^[.]?([^.]*)\\.([^.]{1,10})*\\.bin\\.gz$, string=googlenews-vectors-negative300.bin.gz\n",
      "DEBUG:nlpia.futil:regex pattern = ^[.]?([^.]*)\\.([^.]{1,10})*\\.tgz$, string=googlenews-vectors-negative300.bin.gz\n",
      "INFO:nlpia.loaders:expanded+normalized file path: H:\\ANACONDA\\lib\\site-packages\\nlpia\\bigdata\\googlenews-vectors-negative300.bin.gz\n",
      "INFO:nlpia.loaders:requesting URL: https://www.dropbox.com/s/965dir4dje0hfi4/GoogleNews-vectors-negative300.bin.gz?dl=1\n",
      "INFO:nlpia.loaders:remote_size: 1647046227\n",
      "INFO:nlpia.loaders:local_size: 1647046227\n",
      "INFO:nlpia.loaders:retained: H:\\ANACONDA\\lib\\site-packages\\nlpia\\bigdata\\googlenews-vectors-negative300.bin.gz\n",
      "WARNING:nlpia.loaders:normalize_ext.filepath=H:\\ANACONDA\\lib\\site-packages\\nlpia\\bigdata\\googlenews-vectors-negative300.bin.gz\n",
      "DEBUG:nlpia.futil:regex pattern = ^[.]?([^.]*)\\.([^.]{1,10})*\\.300d\\.zip$, string=H:\\ANACONDA\\lib\\site-packages\\nlpia\\bigdata\\googlenews-vectors-negative300.bin.gz\n",
      "DEBUG:nlpia.futil:regex pattern = ^[.]?([^.]*)\\.([^.]{1,10})*\\.27b\\.zip$, string=H:\\ANACONDA\\lib\\site-packages\\nlpia\\bigdata\\googlenews-vectors-negative300.bin.gz\n",
      "DEBUG:nlpia.futil:regex pattern = ^[.]?([^.]*)\\.([^.]{1,10})*\\.42b\\.zip$, string=H:\\ANACONDA\\lib\\site-packages\\nlpia\\bigdata\\googlenews-vectors-negative300.bin.gz\n",
      "DEBUG:nlpia.futil:regex pattern = ^[.]?([^.]*)\\.([^.]{1,10})*\\.6b\\.zip$, string=H:\\ANACONDA\\lib\\site-packages\\nlpia\\bigdata\\googlenews-vectors-negative300.bin.gz\n",
      "DEBUG:nlpia.futil:regex pattern = ^[.]?([^.]*)\\.([^.]{1,10})*\\.bin\\.gz$, string=H:\\ANACONDA\\lib\\site-packages\\nlpia\\bigdata\\googlenews-vectors-negative300.bin.gz\n",
      "DEBUG:nlpia.futil:regex pattern = ^[.]?([^.]*)\\.([^.]{1,10})*\\.tgz$, string=H:\\ANACONDA\\lib\\site-packages\\nlpia\\bigdata\\googlenews-vectors-negative300.bin.gz\n",
      "WARNING:nlpia.loaders:download_unzip.new_filepaths=H:\\ANACONDA\\lib\\site-packages\\nlpia\\bigdata\\googlenews-vectors-negative300.bin.gz\n",
      "DEBUG:nlpia.loaders:nlpia.loaders.rename_file(source=H:\\ANACONDA\\lib\\site-packages\\nlpia\\bigdata\\googlenews-vectors-negative300.bin.gz, dest=H:\\ANACONDA\\lib\\site-packages\\nlpia\\bigdata\\googlenews-vectors-negative300.bin.gz)\n",
      "DEBUG:nlpia.loaders:nlpia.loaders.os.rename(source=H:\\ANACONDA\\lib\\site-packages\\nlpia\\bigdata\\googlenews-vectors-negative300.bin.gz, dest=H:\\ANACONDA\\lib\\site-packages\\nlpia\\bigdata\\googlenews-vectors-negative300.bin.gz)\n",
      "WARNING:nlpia.loaders:download_unzip.filepath=H:\\ANACONDA\\lib\\site-packages\\nlpia\\bigdata\\googlenews-vectors-negative300.bin.gz\n",
      "DEBUG:nlpia.loaders:downloaded name=word2vec to filepath=H:\\ANACONDA\\lib\\site-packages\\nlpia\\bigdata\\googlenews-vectors-negative300.bin.gz\n",
      "DEBUG:nlpia.loaders:nlpia.loaders.get_data.filepaths={'word2vec': 'H:\\\\ANACONDA\\\\lib\\\\site-packages\\\\nlpia\\\\bigdata\\\\googlenews-vectors-negative300.bin.gz'}\n",
      "DEBUG:nlpia.loaders:nlpia.loaders.get_data.filepath=H:\\ANACONDA\\lib\\site-packages\\nlpia\\bigdata\\googlenews-vectors-negative300.bin.gz\n",
      "INFO:gensim.models.utils_any2vec:loading projection weights from H:\\ANACONDA\\lib\\site-packages\\nlpia\\bigdata\\googlenews-vectors-negative300.bin.gz\n",
      "INFO:gensim.models.utils_any2vec:loaded (3000000, 300) matrix from H:\\ANACONDA\\lib\\site-packages\\nlpia\\bigdata\\googlenews-vectors-negative300.bin.gz\n"
     ]
    }
   ],
   "source": [
    "wv = get_data('word2vec')"
   ]
  },
  {
   "cell_type": "code",
   "execution_count": 3,
   "metadata": {},
   "outputs": [
    {
     "data": {
      "text/plain": [
       "3000000"
      ]
     },
     "execution_count": 3,
     "metadata": {},
     "output_type": "execute_result"
    }
   ],
   "source": [
    "len(wv.vocab)"
   ]
  },
  {
   "cell_type": "code",
   "execution_count": 4,
   "metadata": {},
   "outputs": [
    {
     "data": {
      "text/plain": [
       "Series([], dtype: object)"
      ]
     },
     "execution_count": 4,
     "metadata": {},
     "output_type": "execute_result"
    }
   ],
   "source": [
    "import pandas as pd\n",
    "vocab = pd.Series(wv.vocab)\n",
    "vocab.iloc[1000000:100006]"
   ]
  },
  {
   "cell_type": "code",
   "execution_count": 5,
   "metadata": {},
   "outputs": [
    {
     "data": {
      "text/plain": [
       "Starwood_Hotels_HOT    Vocab(count:2000000, index:1000000)\n",
       "Tammy_Kilborn          Vocab(count:1999999, index:1000001)\n",
       "aortic_aneurism        Vocab(count:1999998, index:1000002)\n",
       "Spragins_Hall          Vocab(count:1999997, index:1000003)\n",
       "Ed_Iacobucci           Vocab(count:1999996, index:1000004)\n",
       "Seilheimer             Vocab(count:1999995, index:1000005)\n",
       "dtype: object"
      ]
     },
     "execution_count": 5,
     "metadata": {},
     "output_type": "execute_result"
    }
   ],
   "source": [
    "vocab.iloc[1000000:1000006]"
   ]
  },
  {
   "cell_type": "code",
   "execution_count": 6,
   "metadata": {},
   "outputs": [
    {
     "data": {
      "text/plain": [
       "array([ 0.10107422,  0.08935547, -0.15429688, -0.04956055, -0.00436401,\n",
       "       -0.06079102, -0.07421875, -0.06005859, -0.06079102, -0.02758789,\n",
       "        0.03015137, -0.05712891, -0.07617188,  0.05786133, -0.05249023,\n",
       "       -0.00421143,  0.04663086,  0.04785156, -0.1328125 , -0.01159668,\n",
       "        0.02416992,  0.04150391, -0.02539062,  0.11230469,  0.10205078,\n",
       "        0.04614258, -0.12158203, -0.05566406, -0.07666016, -0.05200195,\n",
       "       -0.07275391, -0.10302734,  0.14355469, -0.07763672,  0.08398438,\n",
       "       -0.125     ,  0.19726562,  0.06494141,  0.11474609, -0.13476562,\n",
       "        0.02661133, -0.0201416 , -0.00717163,  0.22851562, -0.04272461,\n",
       "       -0.15332031,  0.12597656,  0.01635742,  0.11572266, -0.05664062,\n",
       "       -0.14257812,  0.04370117, -0.16113281,  0.00915527,  0.09179688,\n",
       "       -0.11669922, -0.125     ,  0.12988281, -0.08642578,  0.07373047,\n",
       "       -0.0201416 , -0.0625    , -0.17871094,  0.06738281,  0.10449219,\n",
       "       -0.14160156, -0.09570312, -0.00921631,  0.00375366,  0.19921875,\n",
       "        0.10742188, -0.06347656, -0.00668335,  0.05688477, -0.16503906,\n",
       "        0.17773438, -0.02197266, -0.08496094,  0.12597656,  0.03173828,\n",
       "       -0.14941406, -0.05200195, -0.08496094,  0.12597656,  0.07373047,\n",
       "       -0.06005859, -0.26953125,  0.01379395,  0.02697754, -0.21386719,\n",
       "       -0.01477051, -0.12597656, -0.05029297,  0.04589844, -0.19824219,\n",
       "       -0.02697754,  0.20019531,  0.07373047, -0.08007812, -0.03027344,\n",
       "       -0.1484375 , -0.10498047,  0.0480957 ,  0.10839844,  0.17871094,\n",
       "        0.03344727, -0.11230469,  0.08203125, -0.07910156,  0.00982666,\n",
       "        0.06152344, -0.13085938,  0.11474609, -0.11279297, -0.02233887,\n",
       "        0.07568359,  0.07714844,  0.03271484,  0.09765625,  0.01190186,\n",
       "       -0.01330566,  0.00939941,  0.05859375,  0.04638672,  0.15039062,\n",
       "        0.07373047, -0.09375   ,  0.109375  ,  0.09912109,  0.18359375,\n",
       "       -0.29882812,  0.09716797, -0.09570312, -0.05395508, -0.05371094,\n",
       "       -0.07470703,  0.07763672,  0.03588867,  0.05493164,  0.10888672,\n",
       "       -0.12011719,  0.10986328, -0.15332031, -0.20117188, -0.07910156,\n",
       "        0.05224609,  0.01757812, -0.01745605,  0.06445312, -0.00093842,\n",
       "        0.17089844,  0.05053711, -0.01507568,  0.12353516, -0.09667969,\n",
       "        0.05151367,  0.07763672, -0.0168457 , -0.10400391, -0.15429688,\n",
       "        0.12988281,  0.13378906,  0.11083984,  0.29882812,  0.02270508,\n",
       "        0.0213623 , -0.11035156,  0.10644531,  0.04833984,  0.10839844,\n",
       "        0.078125  , -0.08447266, -0.08349609, -0.07617188, -0.07910156,\n",
       "        0.08203125,  0.109375  ,  0.11230469, -0.00436401,  0.04272461,\n",
       "       -0.16503906, -0.05029297,  0.25195312, -0.05053711,  0.0168457 ,\n",
       "       -0.26757812,  0.265625  ,  0.08300781, -0.05102539,  0.05957031,\n",
       "        0.01782227,  0.09912109,  0.02062988, -0.00643921, -0.13476562,\n",
       "       -0.03564453, -0.10449219, -0.05200195,  0.00040054, -0.11767578,\n",
       "       -0.11132812, -0.07958984, -0.09765625,  0.07568359,  0.07568359,\n",
       "       -0.01330566,  0.09472656,  0.00263977, -0.05908203, -0.04614258,\n",
       "        0.14355469,  0.11083984, -0.12060547, -0.03149414,  0.03588867,\n",
       "        0.08984375,  0.01226807, -0.10302734,  0.19726562, -0.01000977,\n",
       "        0.05371094, -0.00811768, -0.01275635, -0.1796875 ,  0.25195312,\n",
       "       -0.09814453, -0.04882812, -0.05883789, -0.06445312, -0.03320312,\n",
       "       -0.09863281,  0.0480957 , -0.07519531, -0.09863281, -0.16210938,\n",
       "        0.02832031,  0.07861328, -0.11572266, -0.18847656,  0.14355469,\n",
       "       -0.04150391, -0.16992188, -0.03540039,  0.00079727,  0.03442383,\n",
       "        0.04785156, -0.01428223, -0.046875  , -0.1015625 , -0.11181641,\n",
       "        0.04858398,  0.02038574, -0.25585938,  0.15625   ,  0.09130859,\n",
       "       -0.06689453, -0.03344727,  0.05395508, -0.05883789,  0.03588867,\n",
       "        0.07177734, -0.07373047,  0.04760742,  0.01385498,  0.14550781,\n",
       "       -0.11572266, -0.03564453,  0.13964844,  0.10839844,  0.11474609,\n",
       "        0.09277344, -0.06079102,  0.05981445,  0.20703125, -0.08203125,\n",
       "       -0.13183594,  0.0123291 , -0.00952148, -0.05810547, -0.04516602,\n",
       "        0.078125  ,  0.0390625 ,  0.08740234,  0.11767578, -0.11376953,\n",
       "       -0.04321289, -0.03051758, -0.00057983,  0.04272461,  0.05712891,\n",
       "       -0.06884766, -0.140625  ,  0.04736328,  0.01416016,  0.03112793,\n",
       "       -0.02380371, -0.13769531, -0.09326172,  0.31445312,  0.00793457],\n",
       "      dtype=float32)"
      ]
     },
     "execution_count": 6,
     "metadata": {},
     "output_type": "execute_result"
    }
   ],
   "source": [
    "wv['Seilheimer']        "
   ]
  },
  {
   "cell_type": "code",
   "execution_count": 7,
   "metadata": {},
   "outputs": [],
   "source": [
    "import numpy as np"
   ]
  },
  {
   "cell_type": "code",
   "execution_count": 8,
   "metadata": {},
   "outputs": [
    {
     "data": {
      "text/plain": [
       "3.36538"
      ]
     },
     "execution_count": 8,
     "metadata": {},
     "output_type": "execute_result"
    }
   ],
   "source": [
    "np.linalg.norm(wv['Illinois'] - wv['Illini'])"
   ]
  },
  {
   "cell_type": "code",
   "execution_count": 9,
   "metadata": {},
   "outputs": [],
   "source": [
    "cos_similarity = np.dot(wv['Illinois'], wv['Illini']) /( np.linalg.norm(wv['Illinois']) * np.linalg.norm(wv['Illini']))"
   ]
  },
  {
   "cell_type": "code",
   "execution_count": 10,
   "metadata": {},
   "outputs": [
    {
     "data": {
      "text/plain": [
       "0.5501352"
      ]
     },
     "execution_count": 10,
     "metadata": {},
     "output_type": "execute_result"
    }
   ],
   "source": [
    "cos_similarity"
   ]
  },
  {
   "cell_type": "code",
   "execution_count": 11,
   "metadata": {},
   "outputs": [
    {
     "name": "stderr",
     "output_type": "stream",
     "text": [
      "INFO:nlpia.loaders:Downloading cities\n",
      "DEBUG:nlpia.futil:regex pattern = ^[.]?([^.]*)\\.([^.]{1,10})*\\.300d\\.zip$, string=cities.csv.gz\n",
      "DEBUG:nlpia.futil:regex pattern = ^[.]?([^.]*)\\.([^.]{1,10})*\\.27b\\.zip$, string=cities.csv.gz\n",
      "DEBUG:nlpia.futil:regex pattern = ^[.]?([^.]*)\\.([^.]{1,10})*\\.42b\\.zip$, string=cities.csv.gz\n",
      "DEBUG:nlpia.futil:regex pattern = ^[.]?([^.]*)\\.([^.]{1,10})*\\.6b\\.zip$, string=cities.csv.gz\n",
      "DEBUG:nlpia.futil:regex pattern = ^[.]?([^.]*)\\.([^.]{1,10})*\\.bin\\.gz$, string=cities.csv.gz\n",
      "DEBUG:nlpia.futil:regex pattern = ^[.]?([^.]*)\\.([^.]{1,10})*\\.tgz$, string=cities.csv.gz\n",
      "INFO:nlpia.loaders:expanded+normalized file path: H:\\ANACONDA\\lib\\site-packages\\nlpia\\bigdata\\cities.csv.gz\n",
      "INFO:nlpia.loaders:requesting URL: https://www.dropbox.com/s/tcri5eyzpabhnyy/cities.csv.gz?dl=1\n",
      "INFO:nlpia.loaders:remote_size: 8396891\n",
      "INFO:nlpia.loaders:local_size: 8396891\n",
      "INFO:nlpia.loaders:retained: H:\\ANACONDA\\lib\\site-packages\\nlpia\\bigdata\\cities.csv.gz\n",
      "WARNING:nlpia.loaders:normalize_ext.filepath=H:\\ANACONDA\\lib\\site-packages\\nlpia\\bigdata\\cities.csv.gz\n",
      "DEBUG:nlpia.futil:regex pattern = ^[.]?([^.]*)\\.([^.]{1,10})*\\.300d\\.zip$, string=H:\\ANACONDA\\lib\\site-packages\\nlpia\\bigdata\\cities.csv.gz\n",
      "DEBUG:nlpia.futil:regex pattern = ^[.]?([^.]*)\\.([^.]{1,10})*\\.27b\\.zip$, string=H:\\ANACONDA\\lib\\site-packages\\nlpia\\bigdata\\cities.csv.gz\n",
      "DEBUG:nlpia.futil:regex pattern = ^[.]?([^.]*)\\.([^.]{1,10})*\\.42b\\.zip$, string=H:\\ANACONDA\\lib\\site-packages\\nlpia\\bigdata\\cities.csv.gz\n",
      "DEBUG:nlpia.futil:regex pattern = ^[.]?([^.]*)\\.([^.]{1,10})*\\.6b\\.zip$, string=H:\\ANACONDA\\lib\\site-packages\\nlpia\\bigdata\\cities.csv.gz\n",
      "DEBUG:nlpia.futil:regex pattern = ^[.]?([^.]*)\\.([^.]{1,10})*\\.bin\\.gz$, string=H:\\ANACONDA\\lib\\site-packages\\nlpia\\bigdata\\cities.csv.gz\n",
      "DEBUG:nlpia.futil:regex pattern = ^[.]?([^.]*)\\.([^.]{1,10})*\\.tgz$, string=H:\\ANACONDA\\lib\\site-packages\\nlpia\\bigdata\\cities.csv.gz\n",
      "WARNING:nlpia.loaders:download_unzip.new_filepaths=H:\\ANACONDA\\lib\\site-packages\\nlpia\\bigdata\\cities.csv.gz\n",
      "DEBUG:nlpia.loaders:nlpia.loaders.rename_file(source=H:\\ANACONDA\\lib\\site-packages\\nlpia\\bigdata\\cities.csv.gz, dest=H:\\ANACONDA\\lib\\site-packages\\nlpia\\bigdata\\cities.csv.gz)\n",
      "DEBUG:nlpia.loaders:nlpia.loaders.os.rename(source=H:\\ANACONDA\\lib\\site-packages\\nlpia\\bigdata\\cities.csv.gz, dest=H:\\ANACONDA\\lib\\site-packages\\nlpia\\bigdata\\cities.csv.gz)\n",
      "WARNING:nlpia.loaders:download_unzip.filepath=H:\\ANACONDA\\lib\\site-packages\\nlpia\\bigdata\\cities.csv.gz\n",
      "DEBUG:nlpia.loaders:downloaded name=cities to filepath=H:\\ANACONDA\\lib\\site-packages\\nlpia\\bigdata\\cities.csv.gz\n",
      "DEBUG:nlpia.loaders:nlpia.loaders.get_data.filepaths={'cities': 'H:\\\\ANACONDA\\\\lib\\\\site-packages\\\\nlpia\\\\bigdata\\\\cities.csv.gz'}\n",
      "DEBUG:nlpia.loaders:nlpia.loaders.get_data.filepath=H:\\ANACONDA\\lib\\site-packages\\nlpia\\bigdata\\cities.csv.gz\n",
      "INFO:nlpia.futil:Reading CSV with `read_csv(*(<gzip _io.BufferedReader name='H:\\\\ANACONDA\\\\lib\\\\site-packages\\\\nlpia\\\\bigdata\\\\cities.csv.gz' 0x26478d056a0>,), **{'low_memory': False})`...\n"
     ]
    },
    {
     "data": {
      "text/html": [
       "<div>\n",
       "<style scoped>\n",
       "    .dataframe tbody tr th:only-of-type {\n",
       "        vertical-align: middle;\n",
       "    }\n",
       "\n",
       "    .dataframe tbody tr th {\n",
       "        vertical-align: top;\n",
       "    }\n",
       "\n",
       "    .dataframe thead th {\n",
       "        text-align: right;\n",
       "    }\n",
       "</style>\n",
       "<table border=\"1\" class=\"dataframe\">\n",
       "  <thead>\n",
       "    <tr style=\"text-align: right;\">\n",
       "      <th>geonameid</th>\n",
       "      <th>3039154</th>\n",
       "    </tr>\n",
       "  </thead>\n",
       "  <tbody>\n",
       "    <tr>\n",
       "      <th>name</th>\n",
       "      <td>El Tarter</td>\n",
       "    </tr>\n",
       "    <tr>\n",
       "      <th>asciiname</th>\n",
       "      <td>El Tarter</td>\n",
       "    </tr>\n",
       "    <tr>\n",
       "      <th>alternatenames</th>\n",
       "      <td>Ehl Tarter,Эл Тартер</td>\n",
       "    </tr>\n",
       "    <tr>\n",
       "      <th>latitude</th>\n",
       "      <td>42.5795</td>\n",
       "    </tr>\n",
       "    <tr>\n",
       "      <th>longitude</th>\n",
       "      <td>1.65362</td>\n",
       "    </tr>\n",
       "    <tr>\n",
       "      <th>feature_class</th>\n",
       "      <td>P</td>\n",
       "    </tr>\n",
       "    <tr>\n",
       "      <th>feature_code</th>\n",
       "      <td>PPL</td>\n",
       "    </tr>\n",
       "    <tr>\n",
       "      <th>country_code</th>\n",
       "      <td>AD</td>\n",
       "    </tr>\n",
       "    <tr>\n",
       "      <th>cc2</th>\n",
       "      <td>NaN</td>\n",
       "    </tr>\n",
       "    <tr>\n",
       "      <th>admin1_code</th>\n",
       "      <td>02</td>\n",
       "    </tr>\n",
       "    <tr>\n",
       "      <th>admin2_code</th>\n",
       "      <td>NaN</td>\n",
       "    </tr>\n",
       "    <tr>\n",
       "      <th>admin3_code</th>\n",
       "      <td>NaN</td>\n",
       "    </tr>\n",
       "    <tr>\n",
       "      <th>admin4_code</th>\n",
       "      <td>NaN</td>\n",
       "    </tr>\n",
       "    <tr>\n",
       "      <th>population</th>\n",
       "      <td>1052</td>\n",
       "    </tr>\n",
       "    <tr>\n",
       "      <th>elevation</th>\n",
       "      <td>NaN</td>\n",
       "    </tr>\n",
       "    <tr>\n",
       "      <th>dem</th>\n",
       "      <td>1721</td>\n",
       "    </tr>\n",
       "    <tr>\n",
       "      <th>timezone</th>\n",
       "      <td>Europe/Andorra</td>\n",
       "    </tr>\n",
       "    <tr>\n",
       "      <th>modification_date</th>\n",
       "      <td>2012-11-03</td>\n",
       "    </tr>\n",
       "  </tbody>\n",
       "</table>\n",
       "</div>"
      ],
      "text/plain": [
       "geonameid                       3039154\n",
       "name                          El Tarter\n",
       "asciiname                     El Tarter\n",
       "alternatenames     Ehl Tarter,Эл Тартер\n",
       "latitude                        42.5795\n",
       "longitude                       1.65362\n",
       "feature_class                         P\n",
       "feature_code                        PPL\n",
       "country_code                         AD\n",
       "cc2                                 NaN\n",
       "admin1_code                          02\n",
       "admin2_code                         NaN\n",
       "admin3_code                         NaN\n",
       "admin4_code                         NaN\n",
       "population                         1052\n",
       "elevation                           NaN\n",
       "dem                                1721\n",
       "timezone                 Europe/Andorra\n",
       "modification_date            2012-11-03"
      ]
     },
     "execution_count": 11,
     "metadata": {},
     "output_type": "execute_result"
    }
   ],
   "source": [
    "from nlpia.data.loaders import get_data\n",
    "cities = get_data('cities')\n",
    "cities.head(1).T"
   ]
  },
  {
   "cell_type": "code",
   "execution_count": 12,
   "metadata": {},
   "outputs": [],
   "source": [
    "us = cities[(cities.country_code == 'US') & (cities.admin1_code.notnull())].copy()\n",
    "states = pd.read_csv('http://www.fonz.net/blog/wp-content/uploads/2008/04/states.csv')\n",
    "states = dict(zip(states.Abbreviation, states.State))"
   ]
  },
  {
   "cell_type": "code",
   "execution_count": 13,
   "metadata": {},
   "outputs": [
    {
     "data": {
      "text/html": [
       "<div>\n",
       "<style scoped>\n",
       "    .dataframe tbody tr th:only-of-type {\n",
       "        vertical-align: middle;\n",
       "    }\n",
       "\n",
       "    .dataframe tbody tr th {\n",
       "        vertical-align: top;\n",
       "    }\n",
       "\n",
       "    .dataframe thead th {\n",
       "        text-align: right;\n",
       "    }\n",
       "</style>\n",
       "<table border=\"1\" class=\"dataframe\">\n",
       "  <thead>\n",
       "    <tr style=\"text-align: right;\">\n",
       "      <th></th>\n",
       "      <th>city</th>\n",
       "      <th>st</th>\n",
       "      <th>state</th>\n",
       "    </tr>\n",
       "    <tr>\n",
       "      <th>geonameid</th>\n",
       "      <th></th>\n",
       "      <th></th>\n",
       "      <th></th>\n",
       "    </tr>\n",
       "  </thead>\n",
       "  <tbody>\n",
       "    <tr>\n",
       "      <th>4046255</th>\n",
       "      <td>Bay Minette</td>\n",
       "      <td>AL</td>\n",
       "      <td>Alabama</td>\n",
       "    </tr>\n",
       "    <tr>\n",
       "      <th>4046274</th>\n",
       "      <td>Edna</td>\n",
       "      <td>TX</td>\n",
       "      <td>Texas</td>\n",
       "    </tr>\n",
       "    <tr>\n",
       "      <th>4046319</th>\n",
       "      <td>Bayou La Batre</td>\n",
       "      <td>AL</td>\n",
       "      <td>Alabama</td>\n",
       "    </tr>\n",
       "    <tr>\n",
       "      <th>4046332</th>\n",
       "      <td>Henderson</td>\n",
       "      <td>TX</td>\n",
       "      <td>Texas</td>\n",
       "    </tr>\n",
       "    <tr>\n",
       "      <th>4046430</th>\n",
       "      <td>Natalia</td>\n",
       "      <td>TX</td>\n",
       "      <td>Texas</td>\n",
       "    </tr>\n",
       "  </tbody>\n",
       "</table>\n",
       "</div>"
      ],
      "text/plain": [
       "                     city  st    state\n",
       "geonameid                             \n",
       "4046255       Bay Minette  AL  Alabama\n",
       "4046274              Edna  TX    Texas\n",
       "4046319    Bayou La Batre  AL  Alabama\n",
       "4046332         Henderson  TX    Texas\n",
       "4046430           Natalia  TX    Texas"
      ]
     },
     "execution_count": 13,
     "metadata": {},
     "output_type": "execute_result"
    }
   ],
   "source": [
    "us['city'] = us.name.copy()\n",
    "us['st'] = us.admin1_code.copy()\n",
    "us['state'] = us.st.map(states)\n",
    "us[us.columns[-3:]].head()"
   ]
  },
  {
   "cell_type": "code",
   "execution_count": 14,
   "metadata": {},
   "outputs": [
    {
     "name": "stderr",
     "output_type": "stream",
     "text": [
      "<ipython-input-14-0d0e60ce4d9f>:1: FutureWarning: The pandas.np module is deprecated and will be removed from pandas in a future version. Import numpy directly instead\n",
      "  vocab = pd.np.concatenate([us.city, us.st, us.state])\n",
      "<ipython-input-14-0d0e60ce4d9f>:2: DeprecationWarning: Call to deprecated `wv` (Attribute will be removed in 4.0.0, use self instead).\n",
      "  vocab = np.array([word for word in vocab if word in wv.wv])\n"
     ]
    },
    {
     "data": {
      "text/plain": [
       "array(['Edna', 'Henderson', 'Natalia', 'Yorktown', 'Brighton'],\n",
       "      dtype='<U15')"
      ]
     },
     "execution_count": 14,
     "metadata": {},
     "output_type": "execute_result"
    }
   ],
   "source": [
    "vocab = pd.np.concatenate([us.city, us.st, us.state])\n",
    "vocab = np.array([word for word in vocab if word in wv.wv])\n",
    "vocab[:5]"
   ]
  },
  {
   "cell_type": "code",
   "execution_count": 15,
   "metadata": {},
   "outputs": [],
   "source": [
    "city_plus_state = []\n",
    "us = us.sort_values('population', ascending=False)\n",
    "for c, state, st in zip(us.city, us.state, us.st):\n",
    "    if c not in vocab:\n",
    "        continue\n",
    "    row = []\n",
    "    if state in vocab:\n",
    "        row.extend(wv[c] + wv[state])\n",
    "    else:\n",
    "        row.extend(wv[c] + wv[st])\n",
    "    city_plus_state.append(row)\n",
    "us_300D_sorted = pd.DataFrame(city_plus_state)"
   ]
  },
  {
   "cell_type": "code",
   "execution_count": 16,
   "metadata": {},
   "outputs": [
    {
     "data": {
      "text/html": [
       "<div>\n",
       "<style scoped>\n",
       "    .dataframe tbody tr th:only-of-type {\n",
       "        vertical-align: middle;\n",
       "    }\n",
       "\n",
       "    .dataframe tbody tr th {\n",
       "        vertical-align: top;\n",
       "    }\n",
       "\n",
       "    .dataframe thead th {\n",
       "        text-align: right;\n",
       "    }\n",
       "</style>\n",
       "<table border=\"1\" class=\"dataframe\">\n",
       "  <thead>\n",
       "    <tr style=\"text-align: right;\">\n",
       "      <th></th>\n",
       "      <th>0</th>\n",
       "      <th>1</th>\n",
       "      <th>2</th>\n",
       "      <th>3</th>\n",
       "      <th>4</th>\n",
       "      <th>5</th>\n",
       "      <th>6</th>\n",
       "      <th>7</th>\n",
       "      <th>8</th>\n",
       "      <th>9</th>\n",
       "      <th>...</th>\n",
       "      <th>290</th>\n",
       "      <th>291</th>\n",
       "      <th>292</th>\n",
       "      <th>293</th>\n",
       "      <th>294</th>\n",
       "      <th>295</th>\n",
       "      <th>296</th>\n",
       "      <th>297</th>\n",
       "      <th>298</th>\n",
       "      <th>299</th>\n",
       "    </tr>\n",
       "  </thead>\n",
       "  <tbody>\n",
       "    <tr>\n",
       "      <th>0</th>\n",
       "      <td>0.167480</td>\n",
       "      <td>0.556641</td>\n",
       "      <td>0.137054</td>\n",
       "      <td>0.740234</td>\n",
       "      <td>-0.151062</td>\n",
       "      <td>0.233887</td>\n",
       "      <td>-0.667969</td>\n",
       "      <td>0.412109</td>\n",
       "      <td>0.118408</td>\n",
       "      <td>-0.153931</td>\n",
       "      <td>...</td>\n",
       "      <td>-0.205688</td>\n",
       "      <td>0.166504</td>\n",
       "      <td>-0.315430</td>\n",
       "      <td>0.027260</td>\n",
       "      <td>0.348633</td>\n",
       "      <td>0.192383</td>\n",
       "      <td>0.060669</td>\n",
       "      <td>-0.361816</td>\n",
       "      <td>0.105034</td>\n",
       "      <td>-0.156738</td>\n",
       "    </tr>\n",
       "    <tr>\n",
       "      <th>1</th>\n",
       "      <td>0.016113</td>\n",
       "      <td>0.034058</td>\n",
       "      <td>-0.276855</td>\n",
       "      <td>0.519531</td>\n",
       "      <td>-0.105469</td>\n",
       "      <td>0.056152</td>\n",
       "      <td>-0.824219</td>\n",
       "      <td>-0.216064</td>\n",
       "      <td>-0.287109</td>\n",
       "      <td>0.108154</td>\n",
       "      <td>...</td>\n",
       "      <td>0.144043</td>\n",
       "      <td>0.239258</td>\n",
       "      <td>-0.049561</td>\n",
       "      <td>0.041992</td>\n",
       "      <td>0.541992</td>\n",
       "      <td>-0.291016</td>\n",
       "      <td>0.070862</td>\n",
       "      <td>-0.039062</td>\n",
       "      <td>-0.168457</td>\n",
       "      <td>0.024902</td>\n",
       "    </tr>\n",
       "    <tr>\n",
       "      <th>2</th>\n",
       "      <td>0.116821</td>\n",
       "      <td>-0.173706</td>\n",
       "      <td>-0.119385</td>\n",
       "      <td>0.073608</td>\n",
       "      <td>0.097168</td>\n",
       "      <td>-0.171387</td>\n",
       "      <td>-0.510742</td>\n",
       "      <td>0.300293</td>\n",
       "      <td>0.158203</td>\n",
       "      <td>-0.055420</td>\n",
       "      <td>...</td>\n",
       "      <td>-0.033203</td>\n",
       "      <td>-0.147949</td>\n",
       "      <td>-0.470703</td>\n",
       "      <td>0.047119</td>\n",
       "      <td>0.102051</td>\n",
       "      <td>-0.105469</td>\n",
       "      <td>0.124756</td>\n",
       "      <td>-0.077148</td>\n",
       "      <td>0.254395</td>\n",
       "      <td>-0.542969</td>\n",
       "    </tr>\n",
       "    <tr>\n",
       "      <th>3</th>\n",
       "      <td>-0.011230</td>\n",
       "      <td>0.144775</td>\n",
       "      <td>0.180847</td>\n",
       "      <td>0.720703</td>\n",
       "      <td>-0.145508</td>\n",
       "      <td>-0.272949</td>\n",
       "      <td>0.077698</td>\n",
       "      <td>-0.132797</td>\n",
       "      <td>-0.285889</td>\n",
       "      <td>0.015980</td>\n",
       "      <td>...</td>\n",
       "      <td>0.268555</td>\n",
       "      <td>0.748047</td>\n",
       "      <td>0.176025</td>\n",
       "      <td>0.222870</td>\n",
       "      <td>0.578125</td>\n",
       "      <td>-0.089661</td>\n",
       "      <td>-0.110596</td>\n",
       "      <td>0.123230</td>\n",
       "      <td>0.183105</td>\n",
       "      <td>0.037109</td>\n",
       "    </tr>\n",
       "    <tr>\n",
       "      <th>4</th>\n",
       "      <td>0.046631</td>\n",
       "      <td>-0.261353</td>\n",
       "      <td>-0.221191</td>\n",
       "      <td>0.617188</td>\n",
       "      <td>-0.018311</td>\n",
       "      <td>-0.015869</td>\n",
       "      <td>-0.802734</td>\n",
       "      <td>-0.080078</td>\n",
       "      <td>-0.449219</td>\n",
       "      <td>0.066650</td>\n",
       "      <td>...</td>\n",
       "      <td>0.198730</td>\n",
       "      <td>0.123047</td>\n",
       "      <td>0.180420</td>\n",
       "      <td>0.250977</td>\n",
       "      <td>0.439453</td>\n",
       "      <td>-0.256348</td>\n",
       "      <td>0.006836</td>\n",
       "      <td>0.090820</td>\n",
       "      <td>-0.218750</td>\n",
       "      <td>-0.171875</td>\n",
       "    </tr>\n",
       "    <tr>\n",
       "      <th>...</th>\n",
       "      <td>...</td>\n",
       "      <td>...</td>\n",
       "      <td>...</td>\n",
       "      <td>...</td>\n",
       "      <td>...</td>\n",
       "      <td>...</td>\n",
       "      <td>...</td>\n",
       "      <td>...</td>\n",
       "      <td>...</td>\n",
       "      <td>...</td>\n",
       "      <td>...</td>\n",
       "      <td>...</td>\n",
       "      <td>...</td>\n",
       "      <td>...</td>\n",
       "      <td>...</td>\n",
       "      <td>...</td>\n",
       "      <td>...</td>\n",
       "      <td>...</td>\n",
       "      <td>...</td>\n",
       "      <td>...</td>\n",
       "      <td>...</td>\n",
       "    </tr>\n",
       "    <tr>\n",
       "      <th>7681</th>\n",
       "      <td>0.242188</td>\n",
       "      <td>-0.107544</td>\n",
       "      <td>-0.222168</td>\n",
       "      <td>0.257812</td>\n",
       "      <td>-0.158691</td>\n",
       "      <td>-0.212891</td>\n",
       "      <td>-0.333740</td>\n",
       "      <td>0.008057</td>\n",
       "      <td>-0.415039</td>\n",
       "      <td>0.482910</td>\n",
       "      <td>...</td>\n",
       "      <td>0.240723</td>\n",
       "      <td>0.210938</td>\n",
       "      <td>-0.209229</td>\n",
       "      <td>0.116089</td>\n",
       "      <td>0.291992</td>\n",
       "      <td>-0.298828</td>\n",
       "      <td>-0.250000</td>\n",
       "      <td>-0.019531</td>\n",
       "      <td>-0.228027</td>\n",
       "      <td>-0.087891</td>\n",
       "    </tr>\n",
       "    <tr>\n",
       "      <th>7682</th>\n",
       "      <td>0.118774</td>\n",
       "      <td>-0.436523</td>\n",
       "      <td>-0.419434</td>\n",
       "      <td>0.184326</td>\n",
       "      <td>0.056839</td>\n",
       "      <td>0.031982</td>\n",
       "      <td>-0.724609</td>\n",
       "      <td>0.121155</td>\n",
       "      <td>-0.189941</td>\n",
       "      <td>-0.050293</td>\n",
       "      <td>...</td>\n",
       "      <td>-0.198669</td>\n",
       "      <td>0.000000</td>\n",
       "      <td>-0.485352</td>\n",
       "      <td>0.142822</td>\n",
       "      <td>0.112793</td>\n",
       "      <td>-0.605469</td>\n",
       "      <td>0.247559</td>\n",
       "      <td>-0.132324</td>\n",
       "      <td>0.269531</td>\n",
       "      <td>0.500977</td>\n",
       "    </tr>\n",
       "    <tr>\n",
       "      <th>7683</th>\n",
       "      <td>0.415039</td>\n",
       "      <td>-0.482422</td>\n",
       "      <td>-0.174255</td>\n",
       "      <td>0.437500</td>\n",
       "      <td>0.071045</td>\n",
       "      <td>0.058716</td>\n",
       "      <td>-0.381836</td>\n",
       "      <td>0.186523</td>\n",
       "      <td>-0.433594</td>\n",
       "      <td>0.136475</td>\n",
       "      <td>...</td>\n",
       "      <td>-0.233887</td>\n",
       "      <td>0.418945</td>\n",
       "      <td>-0.669922</td>\n",
       "      <td>-0.005127</td>\n",
       "      <td>0.068359</td>\n",
       "      <td>-0.429688</td>\n",
       "      <td>-0.425293</td>\n",
       "      <td>-0.089844</td>\n",
       "      <td>0.401367</td>\n",
       "      <td>0.536133</td>\n",
       "    </tr>\n",
       "    <tr>\n",
       "      <th>7684</th>\n",
       "      <td>0.389648</td>\n",
       "      <td>-0.664062</td>\n",
       "      <td>-0.410645</td>\n",
       "      <td>0.234863</td>\n",
       "      <td>-0.221924</td>\n",
       "      <td>-0.322876</td>\n",
       "      <td>-0.851562</td>\n",
       "      <td>0.260254</td>\n",
       "      <td>-0.479004</td>\n",
       "      <td>0.113464</td>\n",
       "      <td>...</td>\n",
       "      <td>0.033203</td>\n",
       "      <td>0.102539</td>\n",
       "      <td>-0.777344</td>\n",
       "      <td>0.197266</td>\n",
       "      <td>-0.239746</td>\n",
       "      <td>-0.506836</td>\n",
       "      <td>-0.403320</td>\n",
       "      <td>0.241699</td>\n",
       "      <td>-0.188965</td>\n",
       "      <td>0.246094</td>\n",
       "    </tr>\n",
       "    <tr>\n",
       "      <th>7685</th>\n",
       "      <td>0.814453</td>\n",
       "      <td>0.240234</td>\n",
       "      <td>-0.534180</td>\n",
       "      <td>-0.057861</td>\n",
       "      <td>-0.379883</td>\n",
       "      <td>0.174614</td>\n",
       "      <td>-0.067871</td>\n",
       "      <td>-0.504883</td>\n",
       "      <td>-0.154297</td>\n",
       "      <td>-0.243652</td>\n",
       "      <td>...</td>\n",
       "      <td>0.436523</td>\n",
       "      <td>0.139404</td>\n",
       "      <td>-0.415039</td>\n",
       "      <td>0.222046</td>\n",
       "      <td>-0.287598</td>\n",
       "      <td>-0.642578</td>\n",
       "      <td>-0.207520</td>\n",
       "      <td>0.038086</td>\n",
       "      <td>-0.552734</td>\n",
       "      <td>-0.135803</td>\n",
       "    </tr>\n",
       "  </tbody>\n",
       "</table>\n",
       "<p>7686 rows × 300 columns</p>\n",
       "</div>"
      ],
      "text/plain": [
       "           0         1         2         3         4         5         6    \\\n",
       "0     0.167480  0.556641  0.137054  0.740234 -0.151062  0.233887 -0.667969   \n",
       "1     0.016113  0.034058 -0.276855  0.519531 -0.105469  0.056152 -0.824219   \n",
       "2     0.116821 -0.173706 -0.119385  0.073608  0.097168 -0.171387 -0.510742   \n",
       "3    -0.011230  0.144775  0.180847  0.720703 -0.145508 -0.272949  0.077698   \n",
       "4     0.046631 -0.261353 -0.221191  0.617188 -0.018311 -0.015869 -0.802734   \n",
       "...        ...       ...       ...       ...       ...       ...       ...   \n",
       "7681  0.242188 -0.107544 -0.222168  0.257812 -0.158691 -0.212891 -0.333740   \n",
       "7682  0.118774 -0.436523 -0.419434  0.184326  0.056839  0.031982 -0.724609   \n",
       "7683  0.415039 -0.482422 -0.174255  0.437500  0.071045  0.058716 -0.381836   \n",
       "7684  0.389648 -0.664062 -0.410645  0.234863 -0.221924 -0.322876 -0.851562   \n",
       "7685  0.814453  0.240234 -0.534180 -0.057861 -0.379883  0.174614 -0.067871   \n",
       "\n",
       "           7         8         9    ...       290       291       292  \\\n",
       "0     0.412109  0.118408 -0.153931  ... -0.205688  0.166504 -0.315430   \n",
       "1    -0.216064 -0.287109  0.108154  ...  0.144043  0.239258 -0.049561   \n",
       "2     0.300293  0.158203 -0.055420  ... -0.033203 -0.147949 -0.470703   \n",
       "3    -0.132797 -0.285889  0.015980  ...  0.268555  0.748047  0.176025   \n",
       "4    -0.080078 -0.449219  0.066650  ...  0.198730  0.123047  0.180420   \n",
       "...        ...       ...       ...  ...       ...       ...       ...   \n",
       "7681  0.008057 -0.415039  0.482910  ...  0.240723  0.210938 -0.209229   \n",
       "7682  0.121155 -0.189941 -0.050293  ... -0.198669  0.000000 -0.485352   \n",
       "7683  0.186523 -0.433594  0.136475  ... -0.233887  0.418945 -0.669922   \n",
       "7684  0.260254 -0.479004  0.113464  ...  0.033203  0.102539 -0.777344   \n",
       "7685 -0.504883 -0.154297 -0.243652  ...  0.436523  0.139404 -0.415039   \n",
       "\n",
       "           293       294       295       296       297       298       299  \n",
       "0     0.027260  0.348633  0.192383  0.060669 -0.361816  0.105034 -0.156738  \n",
       "1     0.041992  0.541992 -0.291016  0.070862 -0.039062 -0.168457  0.024902  \n",
       "2     0.047119  0.102051 -0.105469  0.124756 -0.077148  0.254395 -0.542969  \n",
       "3     0.222870  0.578125 -0.089661 -0.110596  0.123230  0.183105  0.037109  \n",
       "4     0.250977  0.439453 -0.256348  0.006836  0.090820 -0.218750 -0.171875  \n",
       "...        ...       ...       ...       ...       ...       ...       ...  \n",
       "7681  0.116089  0.291992 -0.298828 -0.250000 -0.019531 -0.228027 -0.087891  \n",
       "7682  0.142822  0.112793 -0.605469  0.247559 -0.132324  0.269531  0.500977  \n",
       "7683 -0.005127  0.068359 -0.429688 -0.425293 -0.089844  0.401367  0.536133  \n",
       "7684  0.197266 -0.239746 -0.506836 -0.403320  0.241699 -0.188965  0.246094  \n",
       "7685  0.222046 -0.287598 -0.642578 -0.207520  0.038086 -0.552734 -0.135803  \n",
       "\n",
       "[7686 rows x 300 columns]"
      ]
     },
     "execution_count": 16,
     "metadata": {},
     "output_type": "execute_result"
    }
   ],
   "source": [
    " us_300D_sorted"
   ]
  },
  {
   "cell_type": "code",
   "execution_count": 17,
   "metadata": {},
   "outputs": [
    {
     "data": {
      "text/plain": [
       "(300,)"
      ]
     },
     "execution_count": 17,
     "metadata": {},
     "output_type": "execute_result"
    }
   ],
   "source": [
    "wv['man'].shape"
   ]
  },
  {
   "cell_type": "markdown",
   "metadata": {},
   "source": [
    "# 使用PCA投影到二维空间"
   ]
  },
  {
   "cell_type": "code",
   "execution_count": 18,
   "metadata": {},
   "outputs": [
    {
     "name": "stderr",
     "output_type": "stream",
     "text": [
      "INFO:nlpia.loaders:Downloading cities_us_wordvectors\n",
      "DEBUG:nlpia.futil:regex pattern = ^[.]?([^.]*)\\.([^.]{1,10})*\\.300d\\.zip$, string=cities_us_wordvectors.csv.gz\n",
      "DEBUG:nlpia.futil:regex pattern = ^[.]?([^.]*)\\.([^.]{1,10})*\\.27b\\.zip$, string=cities_us_wordvectors.csv.gz\n",
      "DEBUG:nlpia.futil:regex pattern = ^[.]?([^.]*)\\.([^.]{1,10})*\\.42b\\.zip$, string=cities_us_wordvectors.csv.gz\n",
      "DEBUG:nlpia.futil:regex pattern = ^[.]?([^.]*)\\.([^.]{1,10})*\\.6b\\.zip$, string=cities_us_wordvectors.csv.gz\n",
      "DEBUG:nlpia.futil:regex pattern = ^[.]?([^.]*)\\.([^.]{1,10})*\\.bin\\.gz$, string=cities_us_wordvectors.csv.gz\n",
      "DEBUG:nlpia.futil:regex pattern = ^[.]?([^.]*)\\.([^.]{1,10})*\\.tgz$, string=cities_us_wordvectors.csv.gz\n",
      "INFO:nlpia.loaders:expanded+normalized file path: H:\\ANACONDA\\lib\\site-packages\\nlpia\\bigdata\\cities_us_wordvectors.csv.gz\n",
      "INFO:nlpia.loaders:requesting URL: https://www.dropbox.com/s/7ujezmo03b637q3/cities_us_wordvectors.csv.gz?dl=1\n",
      "INFO:nlpia.loaders:remote_size: 8451128\n",
      "INFO:nlpia.loaders:local_size: 8451128\n",
      "INFO:nlpia.loaders:retained: H:\\ANACONDA\\lib\\site-packages\\nlpia\\bigdata\\cities_us_wordvectors.csv.gz\n",
      "WARNING:nlpia.loaders:normalize_ext.filepath=H:\\ANACONDA\\lib\\site-packages\\nlpia\\bigdata\\cities_us_wordvectors.csv.gz\n",
      "DEBUG:nlpia.futil:regex pattern = ^[.]?([^.]*)\\.([^.]{1,10})*\\.300d\\.zip$, string=H:\\ANACONDA\\lib\\site-packages\\nlpia\\bigdata\\cities_us_wordvectors.csv.gz\n",
      "DEBUG:nlpia.futil:regex pattern = ^[.]?([^.]*)\\.([^.]{1,10})*\\.27b\\.zip$, string=H:\\ANACONDA\\lib\\site-packages\\nlpia\\bigdata\\cities_us_wordvectors.csv.gz\n",
      "DEBUG:nlpia.futil:regex pattern = ^[.]?([^.]*)\\.([^.]{1,10})*\\.42b\\.zip$, string=H:\\ANACONDA\\lib\\site-packages\\nlpia\\bigdata\\cities_us_wordvectors.csv.gz\n",
      "DEBUG:nlpia.futil:regex pattern = ^[.]?([^.]*)\\.([^.]{1,10})*\\.6b\\.zip$, string=H:\\ANACONDA\\lib\\site-packages\\nlpia\\bigdata\\cities_us_wordvectors.csv.gz\n",
      "DEBUG:nlpia.futil:regex pattern = ^[.]?([^.]*)\\.([^.]{1,10})*\\.bin\\.gz$, string=H:\\ANACONDA\\lib\\site-packages\\nlpia\\bigdata\\cities_us_wordvectors.csv.gz\n",
      "DEBUG:nlpia.futil:regex pattern = ^[.]?([^.]*)\\.([^.]{1,10})*\\.tgz$, string=H:\\ANACONDA\\lib\\site-packages\\nlpia\\bigdata\\cities_us_wordvectors.csv.gz\n",
      "WARNING:nlpia.loaders:download_unzip.new_filepaths=H:\\ANACONDA\\lib\\site-packages\\nlpia\\bigdata\\cities_us_wordvectors.csv.gz\n",
      "DEBUG:nlpia.loaders:nlpia.loaders.rename_file(source=H:\\ANACONDA\\lib\\site-packages\\nlpia\\bigdata\\cities_us_wordvectors.csv.gz, dest=H:\\ANACONDA\\lib\\site-packages\\nlpia\\bigdata\\cities_us_wordvectors.csv.gz)\n",
      "DEBUG:nlpia.loaders:nlpia.loaders.os.rename(source=H:\\ANACONDA\\lib\\site-packages\\nlpia\\bigdata\\cities_us_wordvectors.csv.gz, dest=H:\\ANACONDA\\lib\\site-packages\\nlpia\\bigdata\\cities_us_wordvectors.csv.gz)\n",
      "WARNING:nlpia.loaders:download_unzip.filepath=H:\\ANACONDA\\lib\\site-packages\\nlpia\\bigdata\\cities_us_wordvectors.csv.gz\n",
      "DEBUG:nlpia.loaders:downloaded name=cities_us_wordvectors to filepath=H:\\ANACONDA\\lib\\site-packages\\nlpia\\bigdata\\cities_us_wordvectors.csv.gz\n",
      "DEBUG:nlpia.loaders:nlpia.loaders.get_data.filepaths={'cities_us_wordvectors': 'H:\\\\ANACONDA\\\\lib\\\\site-packages\\\\nlpia\\\\bigdata\\\\cities_us_wordvectors.csv.gz'}\n",
      "DEBUG:nlpia.loaders:nlpia.loaders.get_data.filepath=H:\\ANACONDA\\lib\\site-packages\\nlpia\\bigdata\\cities_us_wordvectors.csv.gz\n",
      "INFO:nlpia.futil:Reading CSV with `read_csv(*(<gzip _io.BufferedReader name='H:\\\\ANACONDA\\\\lib\\\\site-packages\\\\nlpia\\\\bigdata\\\\cities_us_wordvectors.csv.gz' 0x2632a72f640>,), **{'low_memory': False})`...\n",
      "INFO:nlpia.futil:Unable to coerce DataFrame.index into a datetime using pd.to_datetime([Agoura, CA,...])\n"
     ]
    }
   ],
   "source": [
    "from sklearn.decomposition import PCA\n",
    "pca = PCA(n_components=2) \n",
    "us_300D = get_data('cities_us_wordvectors')\n",
    "us_2D = pca.fit_transform(us_300D.iloc[:100, :300])"
   ]
  },
  {
   "cell_type": "code",
   "execution_count": 19,
   "metadata": {},
   "outputs": [
    {
     "data": {
      "text/plain": [
       "array([[-1.76010647,  4.48061731],\n",
       "       [ 2.23934713, -0.87846756],\n",
       "       [-1.73874931,  3.49166208],\n",
       "       [-0.19669566,  0.7106238 ],\n",
       "       [ 2.69138213, -1.52119363],\n",
       "       [ 1.85900291, -0.74941311],\n",
       "       [ 1.1310525 , -1.18612004],\n",
       "       [ 0.01953778,  1.62926796],\n",
       "       [ 0.70483074,  0.29414327],\n",
       "       [-1.31480184,  3.56751293],\n",
       "       [-3.74210776, -2.18835131],\n",
       "       [ 0.17633042,  0.40650099],\n",
       "       [ 4.35389427, -0.95293917],\n",
       "       [ 4.70325966, -1.67028529],\n",
       "       [-1.17472382,  3.86595833],\n",
       "       [-1.64385553,  3.70280678],\n",
       "       [-1.25077595,  3.87873002],\n",
       "       [-1.79460397,  4.20426976],\n",
       "       [-1.83129528,  4.05714472],\n",
       "       [ 0.18477596,  0.58574034],\n",
       "       [-0.26081755,  1.6240815 ],\n",
       "       [-1.45590884,  3.38530797],\n",
       "       [ 0.30190085,  1.56921941],\n",
       "       [ 0.12747544,  1.33281482],\n",
       "       [-0.32870353,  1.63834247],\n",
       "       [ 0.62078724,  1.43139048],\n",
       "       [-1.27833382,  3.67039129],\n",
       "       [-0.25872309,  1.65399192],\n",
       "       [ 0.17059807,  1.48721644],\n",
       "       [-0.15486673,  1.38655464],\n",
       "       [ 0.79298192,  1.32364234],\n",
       "       [ 1.06309507,  1.26401735],\n",
       "       [ 0.94953686,  1.49125391],\n",
       "       [ 4.58393479, -1.83518848],\n",
       "       [ 4.44925678, -1.81529518],\n",
       "       [ 1.02299609,  0.20011101],\n",
       "       [ 4.0594051 , -1.07801766],\n",
       "       [-2.72234199, -2.26512248],\n",
       "       [ 3.6049736 , -1.24316589],\n",
       "       [ 4.56448504, -1.70558793],\n",
       "       [ 4.35969824, -1.57536221],\n",
       "       [ 3.65734989, -1.27498171],\n",
       "       [ 0.38506504,  0.6085766 ],\n",
       "       [-2.76157589, -2.41884484],\n",
       "       [-0.38877564,  1.43388861],\n",
       "       [ 1.34168916, -0.37028572],\n",
       "       [ 0.82966813, -0.56981947],\n",
       "       [-2.6760717 , -2.60040151],\n",
       "       [ 1.51862057, -1.34958987],\n",
       "       [ 1.55404059, -1.3885111 ],\n",
       "       [ 0.99066083, -1.38410196],\n",
       "       [ 1.86644997, -1.29904   ],\n",
       "       [-2.80212098, -2.40243553],\n",
       "       [-3.23792715, -2.1464974 ],\n",
       "       [-3.85833105, -2.98699337],\n",
       "       [-3.32638347, -2.18184241],\n",
       "       [-3.60851884, -2.58792075],\n",
       "       [-3.2950492 , -2.30144223],\n",
       "       [-2.72033104, -2.89161994],\n",
       "       [-3.25996109, -2.42372088],\n",
       "       [-3.27161282, -2.16220607],\n",
       "       [-2.87125879, -2.7182695 ],\n",
       "       [-4.17938104, -3.01719334],\n",
       "       [ 0.50208739, -0.8934769 ],\n",
       "       [ 2.49003441, -0.92418678],\n",
       "       [-3.17140532, -2.40931617],\n",
       "       [-1.46793517,  4.51272783],\n",
       "       [-3.63032302, -1.77406231],\n",
       "       [ 0.16818388,  1.38225025],\n",
       "       [-3.48641124, -2.95645761],\n",
       "       [ 1.55506102, -1.8781939 ],\n",
       "       [ 0.58008012,  0.22581142],\n",
       "       [ 1.65630762, -1.24574115],\n",
       "       [-0.38140621,  1.46628628],\n",
       "       [-2.89838791, -2.64071146],\n",
       "       [ 0.21179613,  1.22170044],\n",
       "       [ 0.50537559,  0.78985887],\n",
       "       [-4.22530911, -3.30696147],\n",
       "       [-1.69188843,  4.3624294 ],\n",
       "       [ 0.72540042,  1.72360719],\n",
       "       [-1.97538304,  3.13028918],\n",
       "       [ 0.3621304 ,  0.20104696],\n",
       "       [ 2.18838465, -0.93630367],\n",
       "       [ 0.69327708,  2.05300693],\n",
       "       [ 0.69567423,  0.06826137],\n",
       "       [ 0.45719415,  1.96683195],\n",
       "       [ 0.93832986, -0.18324363],\n",
       "       [ 0.90909227,  2.50069077],\n",
       "       [ 3.22883124, -1.62666419],\n",
       "       [ 0.86199331, -1.6569097 ],\n",
       "       [ 0.72599584, -1.16417833],\n",
       "       [ 3.18439112, -2.13396305],\n",
       "       [ 0.87222766,  0.11253512],\n",
       "       [ 1.04415773,  0.48339721],\n",
       "       [ 0.34031948, -0.62866165],\n",
       "       [ 0.19879982, -0.44570627],\n",
       "       [-0.04845353,  0.91726609],\n",
       "       [ 0.87747171, -0.63826758],\n",
       "       [ 0.63030829,  0.77806992],\n",
       "       [ 0.66062466,  0.31138716]])"
      ]
     },
     "execution_count": 19,
     "metadata": {},
     "output_type": "execute_result"
    }
   ],
   "source": [
    "us_2D"
   ]
  },
  {
   "cell_type": "code",
   "execution_count": 20,
   "metadata": {},
   "outputs": [],
   "source": [
    "import matplotlib.pyplot as plt"
   ]
  },
  {
   "cell_type": "code",
   "execution_count": 21,
   "metadata": {},
   "outputs": [
    {
     "data": {
      "image/png": "[encoded data removed]",
      "text/plain": [
       "<Figure size 432x288 with 1 Axes>"
      ]
     },
     "metadata": {
      "needs_background": "light"
     },
     "output_type": "display_data"
    }
   ],
   "source": [
    "plt.plot(us_2D,'ro')\n",
    "plt.show()"
   ]
  },
  {
   "cell_type": "markdown",
   "metadata": {},
   "source": [
    "# 训练自己的词向量"
   ]
  },
  {
   "cell_type": "code",
   "execution_count": 34,
   "metadata": {},
   "outputs": [],
   "source": [
    "import multiprocessing\n",
    "num_cores = multiprocessing.cpu_count()\n",
    "from gensim.models.doc2vec import TaggedDocument, Doc2Vec\n",
    "from gensim.utils import simple_preprocess\n"
   ]
  },
  {
   "cell_type": "code",
   "execution_count": 51,
   "metadata": {},
   "outputs": [
    {
     "data": {
      "text/plain": [
       "enumerate"
      ]
     },
     "execution_count": 51,
     "metadata": {},
     "output_type": "execute_result"
    }
   ],
   "source": []
  },
  {
   "cell_type": "code",
   "execution_count": 53,
   "metadata": {},
   "outputs": [],
   "source": [
    "corpus = ['This is the, first document is very long...','another document is very short...']\n",
    "training_corpus = []\n",
    "for i,text in enumerate(corpus):\n",
    "    tagged_doc = TaggedDocument( simple_preprocess(text), [i])\n",
    "    training_corpus.append(tagged_doc)"
   ]
  },
  {
   "cell_type": "markdown",
   "metadata": {},
   "source": [
    "simple process 是一个粗分词器 回去出单词字母间的所有标点符号"
   ]
  },
  {
   "cell_type": "code",
   "execution_count": 54,
   "metadata": {},
   "outputs": [
    {
     "data": {
      "text/plain": [
       "[TaggedDocument(words=['this', 'is', 'the', 'first', 'document', 'is', 'very', 'long'], tags=[0]),\n",
       " TaggedDocument(words=['another', 'document', 'is', 'very', 'short'], tags=[1])]"
      ]
     },
     "execution_count": 54,
     "metadata": {},
     "output_type": "execute_result"
    }
   ],
   "source": [
    "training_corpus"
   ]
  },
  {
   "cell_type": "code",
   "execution_count": 55,
   "metadata": {},
   "outputs": [
    {
     "name": "stderr",
     "output_type": "stream",
     "text": [
      "INFO:gensim.models.doc2vec:collecting all words and their counts\n",
      "INFO:gensim.models.doc2vec:PROGRESS: at example #0, processed 0 words (0/s), 0 word types, 0 tags\n",
      "INFO:gensim.models.doc2vec:collected 9 word types and 2 unique tags from a corpus of 2 examples and 13 words\n",
      "INFO:gensim.models.word2vec:Loading a fresh vocabulary\n",
      "INFO:gensim.models.word2vec:effective_min_count=2 retains 3 unique words (33% of original 9, drops 6)\n",
      "INFO:gensim.models.word2vec:effective_min_count=2 leaves 7 word corpus (53% of original 13, drops 6)\n",
      "INFO:gensim.models.word2vec:deleting the raw counts dictionary of 9 items\n",
      "INFO:gensim.models.word2vec:sample=0.001 downsamples 3 most-common words\n",
      "INFO:gensim.models.word2vec:downsampling leaves estimated 0 word corpus (5.8% of prior 7)\n",
      "INFO:gensim.models.base_any2vec:estimated required memory for 3 words and 100 dimensions: 4700 bytes\n",
      "INFO:gensim.models.word2vec:resetting layer weights\n",
      "<ipython-input-55-959a27dc0d48>:3: DeprecationWarning: Call to deprecated `iter` (Attribute will be removed in 4.0.0, use self.epochs instead).\n",
      "  model.train(training_corpus, total_examples = model.corpus_count, epochs = model.iter)\n",
      "INFO:gensim.models.base_any2vec:training model with 8 workers on 3 vocabulary and 100 features, using sg=0 hs=0 sample=0.001 negative=5 window=5\n",
      "INFO:gensim.models.base_any2vec:worker thread finished; awaiting finish of 7 more threads\n",
      "INFO:gensim.models.base_any2vec:worker thread finished; awaiting finish of 6 more threads\n",
      "INFO:gensim.models.base_any2vec:worker thread finished; awaiting finish of 5 more threads\n",
      "INFO:gensim.models.base_any2vec:worker thread finished; awaiting finish of 4 more threads\n",
      "INFO:gensim.models.base_any2vec:worker thread finished; awaiting finish of 3 more threads\n",
      "INFO:gensim.models.base_any2vec:worker thread finished; awaiting finish of 2 more threads\n",
      "INFO:gensim.models.base_any2vec:worker thread finished; awaiting finish of 1 more threads\n",
      "INFO:gensim.models.base_any2vec:worker thread finished; awaiting finish of 0 more threads\n",
      "INFO:gensim.models.base_any2vec:EPOCH - 1 : training on 13 raw words (2 effective words) took 0.0s, 368 effective words/s\n",
      "INFO:gensim.models.base_any2vec:worker thread finished; awaiting finish of 7 more threads\n",
      "INFO:gensim.models.base_any2vec:worker thread finished; awaiting finish of 6 more threads\n",
      "INFO:gensim.models.base_any2vec:worker thread finished; awaiting finish of 5 more threads\n",
      "INFO:gensim.models.base_any2vec:worker thread finished; awaiting finish of 4 more threads\n",
      "INFO:gensim.models.base_any2vec:worker thread finished; awaiting finish of 3 more threads\n",
      "INFO:gensim.models.base_any2vec:worker thread finished; awaiting finish of 2 more threads\n",
      "INFO:gensim.models.base_any2vec:worker thread finished; awaiting finish of 1 more threads\n",
      "INFO:gensim.models.base_any2vec:worker thread finished; awaiting finish of 0 more threads\n",
      "INFO:gensim.models.base_any2vec:EPOCH - 2 : training on 13 raw words (3 effective words) took 0.0s, 515 effective words/s\n",
      "INFO:gensim.models.base_any2vec:worker thread finished; awaiting finish of 7 more threads\n",
      "INFO:gensim.models.base_any2vec:worker thread finished; awaiting finish of 6 more threads\n",
      "INFO:gensim.models.base_any2vec:worker thread finished; awaiting finish of 5 more threads\n",
      "INFO:gensim.models.base_any2vec:worker thread finished; awaiting finish of 4 more threads\n",
      "INFO:gensim.models.base_any2vec:worker thread finished; awaiting finish of 3 more threads\n",
      "INFO:gensim.models.base_any2vec:worker thread finished; awaiting finish of 2 more threads\n",
      "INFO:gensim.models.base_any2vec:worker thread finished; awaiting finish of 1 more threads\n",
      "INFO:gensim.models.base_any2vec:worker thread finished; awaiting finish of 0 more threads\n",
      "INFO:gensim.models.base_any2vec:EPOCH - 3 : training on 13 raw words (2 effective words) took 0.0s, 324 effective words/s\n",
      "INFO:gensim.models.base_any2vec:worker thread finished; awaiting finish of 7 more threads\n",
      "INFO:gensim.models.base_any2vec:worker thread finished; awaiting finish of 6 more threads\n",
      "INFO:gensim.models.base_any2vec:worker thread finished; awaiting finish of 5 more threads\n",
      "INFO:gensim.models.base_any2vec:worker thread finished; awaiting finish of 4 more threads\n",
      "INFO:gensim.models.base_any2vec:worker thread finished; awaiting finish of 3 more threads\n",
      "INFO:gensim.models.base_any2vec:worker thread finished; awaiting finish of 2 more threads\n",
      "INFO:gensim.models.base_any2vec:worker thread finished; awaiting finish of 1 more threads\n",
      "INFO:gensim.models.base_any2vec:worker thread finished; awaiting finish of 0 more threads\n",
      "INFO:gensim.models.base_any2vec:EPOCH - 4 : training on 13 raw words (2 effective words) took 0.0s, 278 effective words/s\n",
      "INFO:gensim.models.base_any2vec:worker thread finished; awaiting finish of 7 more threads\n",
      "INFO:gensim.models.base_any2vec:worker thread finished; awaiting finish of 6 more threads\n",
      "INFO:gensim.models.base_any2vec:worker thread finished; awaiting finish of 5 more threads\n",
      "INFO:gensim.models.base_any2vec:worker thread finished; awaiting finish of 4 more threads\n",
      "INFO:gensim.models.base_any2vec:worker thread finished; awaiting finish of 3 more threads\n",
      "INFO:gensim.models.base_any2vec:worker thread finished; awaiting finish of 2 more threads\n",
      "INFO:gensim.models.base_any2vec:worker thread finished; awaiting finish of 1 more threads\n",
      "INFO:gensim.models.base_any2vec:worker thread finished; awaiting finish of 0 more threads\n",
      "INFO:gensim.models.base_any2vec:EPOCH - 5 : training on 13 raw words (2 effective words) took 0.0s, 290 effective words/s\n",
      "INFO:gensim.models.base_any2vec:worker thread finished; awaiting finish of 7 more threads\n",
      "INFO:gensim.models.base_any2vec:worker thread finished; awaiting finish of 6 more threads\n",
      "INFO:gensim.models.base_any2vec:worker thread finished; awaiting finish of 5 more threads\n",
      "INFO:gensim.models.base_any2vec:worker thread finished; awaiting finish of 4 more threads\n",
      "INFO:gensim.models.base_any2vec:worker thread finished; awaiting finish of 3 more threads\n",
      "INFO:gensim.models.base_any2vec:worker thread finished; awaiting finish of 2 more threads\n",
      "INFO:gensim.models.base_any2vec:worker thread finished; awaiting finish of 1 more threads\n",
      "INFO:gensim.models.base_any2vec:worker thread finished; awaiting finish of 0 more threads\n",
      "INFO:gensim.models.base_any2vec:EPOCH - 6 : training on 13 raw words (2 effective words) took 0.0s, 439 effective words/s\n",
      "INFO:gensim.models.base_any2vec:worker thread finished; awaiting finish of 7 more threads\n",
      "INFO:gensim.models.base_any2vec:worker thread finished; awaiting finish of 6 more threads\n",
      "INFO:gensim.models.base_any2vec:worker thread finished; awaiting finish of 5 more threads\n",
      "INFO:gensim.models.base_any2vec:worker thread finished; awaiting finish of 4 more threads\n",
      "INFO:gensim.models.base_any2vec:worker thread finished; awaiting finish of 3 more threads\n",
      "INFO:gensim.models.base_any2vec:worker thread finished; awaiting finish of 2 more threads\n",
      "INFO:gensim.models.base_any2vec:worker thread finished; awaiting finish of 1 more threads\n",
      "INFO:gensim.models.base_any2vec:worker thread finished; awaiting finish of 0 more threads\n",
      "INFO:gensim.models.base_any2vec:EPOCH - 7 : training on 13 raw words (2 effective words) took 0.0s, 464 effective words/s\n",
      "INFO:gensim.models.base_any2vec:worker thread finished; awaiting finish of 7 more threads\n",
      "INFO:gensim.models.base_any2vec:worker thread finished; awaiting finish of 6 more threads\n",
      "INFO:gensim.models.base_any2vec:worker thread finished; awaiting finish of 5 more threads\n",
      "INFO:gensim.models.base_any2vec:worker thread finished; awaiting finish of 4 more threads\n",
      "INFO:gensim.models.base_any2vec:worker thread finished; awaiting finish of 3 more threads\n",
      "INFO:gensim.models.base_any2vec:worker thread finished; awaiting finish of 2 more threads\n",
      "INFO:gensim.models.base_any2vec:worker thread finished; awaiting finish of 1 more threads\n",
      "INFO:gensim.models.base_any2vec:worker thread finished; awaiting finish of 0 more threads\n",
      "INFO:gensim.models.base_any2vec:EPOCH - 8 : training on 13 raw words (3 effective words) took 0.0s, 1007 effective words/s\n",
      "INFO:gensim.models.base_any2vec:worker thread finished; awaiting finish of 7 more threads\n",
      "INFO:gensim.models.base_any2vec:worker thread finished; awaiting finish of 6 more threads\n"
     ]
    },
    {
     "name": "stderr",
     "output_type": "stream",
     "text": [
      "INFO:gensim.models.base_any2vec:worker thread finished; awaiting finish of 5 more threads\n",
      "INFO:gensim.models.base_any2vec:worker thread finished; awaiting finish of 4 more threads\n",
      "INFO:gensim.models.base_any2vec:worker thread finished; awaiting finish of 3 more threads\n",
      "INFO:gensim.models.base_any2vec:worker thread finished; awaiting finish of 2 more threads\n",
      "INFO:gensim.models.base_any2vec:worker thread finished; awaiting finish of 1 more threads\n",
      "INFO:gensim.models.base_any2vec:worker thread finished; awaiting finish of 0 more threads\n",
      "INFO:gensim.models.base_any2vec:EPOCH - 9 : training on 13 raw words (5 effective words) took 0.0s, 1542 effective words/s\n",
      "INFO:gensim.models.base_any2vec:worker thread finished; awaiting finish of 7 more threads\n",
      "INFO:gensim.models.base_any2vec:worker thread finished; awaiting finish of 6 more threads\n",
      "INFO:gensim.models.base_any2vec:worker thread finished; awaiting finish of 5 more threads\n",
      "INFO:gensim.models.base_any2vec:worker thread finished; awaiting finish of 4 more threads\n",
      "INFO:gensim.models.base_any2vec:worker thread finished; awaiting finish of 3 more threads\n",
      "INFO:gensim.models.base_any2vec:worker thread finished; awaiting finish of 2 more threads\n",
      "INFO:gensim.models.base_any2vec:worker thread finished; awaiting finish of 1 more threads\n",
      "INFO:gensim.models.base_any2vec:worker thread finished; awaiting finish of 0 more threads\n",
      "INFO:gensim.models.base_any2vec:EPOCH - 10 : training on 13 raw words (3 effective words) took 0.0s, 1021 effective words/s\n",
      "INFO:gensim.models.base_any2vec:training on a 130 raw words (26 effective words) took 0.1s, 282 effective words/s\n",
      "WARNING:gensim.models.base_any2vec:under 10 jobs per worker: consider setting a smaller `batch_words' for smoother alpha decay\n"
     ]
    }
   ],
   "source": [
    "model = Doc2Vec(size = 100, min_count = 2, workers = num_cores, iter = 10)\n",
    "model.build_vocab(training_corpus)\n",
    "model.train(training_corpus, total_examples = model.corpus_count, epochs = model.iter)\n"
   ]
  },
  {
   "cell_type": "code",
   "execution_count": 57,
   "metadata": {},
   "outputs": [
    {
     "data": {
      "text/plain": [
       "array([-2.9365208e-03, -8.2268124e-04, -4.9743098e-03, -2.6379824e-03,\n",
       "        4.3371064e-03,  4.9957340e-03,  1.8724730e-03,  4.5797634e-03,\n",
       "       -2.0516750e-03, -1.4231511e-03,  1.5196385e-03,  1.2081410e-03,\n",
       "        2.8246499e-03,  4.3468620e-03, -3.4010189e-03,  2.8068786e-03,\n",
       "       -3.8983456e-03,  3.4563839e-03,  5.9801696e-05, -1.8637727e-03,\n",
       "        2.4364104e-03,  1.6249171e-03,  4.6687676e-03,  1.3798686e-03,\n",
       "       -7.1684190e-04, -1.1244355e-03,  4.1351565e-03,  2.0019663e-03,\n",
       "       -2.3364329e-03, -3.6046614e-03, -4.3187453e-03,  1.4873362e-03,\n",
       "        2.0771213e-03, -2.2033762e-04,  2.9794418e-03, -1.4720749e-03,\n",
       "        3.1716309e-03, -1.9839488e-03,  6.5856424e-05,  1.1316220e-03,\n",
       "        3.4847863e-03,  2.6759126e-03,  3.9239204e-04,  2.6790067e-03,\n",
       "        1.9284645e-03, -1.2986382e-03,  1.3311345e-03, -1.9725077e-03,\n",
       "        2.1318663e-03, -4.5956005e-03, -8.2004542e-04,  4.9540652e-03,\n",
       "        2.9717924e-03, -1.9040374e-03,  1.3349407e-03,  4.2217751e-03,\n",
       "       -2.3557572e-03, -1.9347433e-03,  2.6857241e-03, -2.1439241e-03,\n",
       "       -4.3137749e-03, -1.6285748e-03,  2.1063210e-03,  1.6778852e-03,\n",
       "        2.4146670e-03,  2.6265422e-03,  3.3231189e-03,  1.8157596e-03,\n",
       "       -5.4164341e-04,  4.8065255e-03, -1.8191683e-03,  1.8564904e-03,\n",
       "       -9.4819197e-04,  4.1418984e-03,  3.0725335e-03,  4.2302106e-03,\n",
       "        2.5952393e-03,  3.5322800e-03,  3.9485046e-03, -3.9662914e-03,\n",
       "       -2.1258849e-03, -3.8563172e-04, -3.6876365e-03, -9.1040513e-04,\n",
       "       -3.3409379e-03, -4.6502799e-05,  2.1781514e-03, -4.6189805e-03,\n",
       "        2.9849028e-03,  1.7174421e-03,  4.6564857e-03,  4.0464685e-04,\n",
       "       -3.6080482e-03,  3.6162599e-03,  4.9307728e-03,  1.7365623e-03,\n",
       "       -8.4744405e-04,  1.9709376e-04,  3.4179788e-03, -1.6962773e-03],\n",
       "      dtype=float32)"
      ]
     },
     "execution_count": 57,
     "metadata": {},
     "output_type": "execute_result"
    }
   ],
   "source": [
    "model['very'] "
   ]
  },
  {
   "cell_type": "code",
   "execution_count": 47,
   "metadata": {},
   "outputs": [
    {
     "data": {
      "text/plain": [
       "<gensim.models.doc2vec.Doc2Vec at 0x26344ebd6a0>"
      ]
     },
     "execution_count": 47,
     "metadata": {},
     "output_type": "execute_result"
    }
   ],
   "source": [
    "model"
   ]
  },
  {
   "cell_type": "code",
   "execution_count": 58,
   "metadata": {},
   "outputs": [
    {
     "name": "stderr",
     "output_type": "stream",
     "text": [
      "INFO:gensim.models.keyedvectors:precomputing L2-norms of word weight vectors\n"
     ]
    },
    {
     "data": {
      "text/plain": [
       "[('is', 0.08096228539943695), ('document', -0.04988439381122589)]"
      ]
     },
     "execution_count": 58,
     "metadata": {},
     "output_type": "execute_result"
    }
   ],
   "source": [
    "model.wv.most_similar('very')"
   ]
  },
  {
   "cell_type": "code",
   "execution_count": null,
   "metadata": {},
   "outputs": [],
   "source": []
  },
  {
   "cell_type": "code",
   "execution_count": null,
   "metadata": {},
   "outputs": [],
   "source": []
  }
 ],
 "metadata": {
  "kernelspec": {
   "display_name": "Python 3",
   "language": "python",
   "name": "python3"
  },
  "language_info": {
   "codemirror_mode": {
    "name": "ipython",
    "version": 3
   },
   "file_extension": ".py",
   "mimetype": "text/x-python",
   "name": "python",
   "nbconvert_exporter": "python",
   "pygments_lexer": "ipython3",
   "version": "3.8.3"
  }
 },
 "nbformat": 4,
 "nbformat_minor": 4
}
